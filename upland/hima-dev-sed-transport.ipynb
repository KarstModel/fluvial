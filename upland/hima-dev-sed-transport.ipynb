{
 "cells": [
  {
   "cell_type": "code",
   "execution_count": 1,
   "metadata": {},
   "outputs": [],
   "source": [
    "import warnings\n",
    "warnings.filterwarnings('ignore')\n",
    "\n",
    "import os\n",
    "import pathlib\n",
    "import matplotlib.pyplot as plt\n",
    "import numpy as np\n",
    "from landlab.components import FlowDirectorSteepest, NetworkSedimentTransporter\n",
    "from landlab.data_record import DataRecord\n",
    "from landlab.grid.network import NetworkModelGrid\n",
    "from landlab.plot import graph\n",
    "from landlab.io import read_shapefile\n",
    "from landlab import ExampleData\n",
    "\n",
    "from landlab.plot import plot_network_and_parcels\n",
    "%matplotlib inline"
   ]
  },
  {
   "cell_type": "code",
   "execution_count": 3,
   "metadata": {},
   "outputs": [
    {
     "ename": "NameError",
     "evalue": "name 'points_shapefile' is not defined",
     "output_type": "error",
     "traceback": [
      "\u001b[1;31m---------------------------------------------------------------------------\u001b[0m",
      "\u001b[1;31mNameError\u001b[0m                                 Traceback (most recent call last)",
      "\u001b[1;32m<ipython-input-3-f18f256d9087>\u001b[0m in \u001b[0;36m<module>\u001b[1;34m\u001b[0m\n\u001b[0;32m      4\u001b[0m grid = read_shapefile(\n\u001b[0;32m      5\u001b[0m     \u001b[0mshp_file\u001b[0m\u001b[1;33m,\u001b[0m\u001b[1;33m\u001b[0m\u001b[1;33m\u001b[0m\u001b[0m\n\u001b[1;32m----> 6\u001b[1;33m     \u001b[0mpoints_shapefile\u001b[0m\u001b[1;33m=\u001b[0m\u001b[0mpoints_shapefile\u001b[0m\u001b[1;33m,\u001b[0m\u001b[1;33m\u001b[0m\u001b[1;33m\u001b[0m\u001b[0m\n\u001b[0m\u001b[0;32m      7\u001b[0m     \u001b[0mnode_fields\u001b[0m\u001b[1;33m=\u001b[0m\u001b[1;33m[\u001b[0m\u001b[1;34m\"usarea_km2\"\u001b[0m\u001b[1;33m,\u001b[0m \u001b[1;34m\"Elev_m\"\u001b[0m\u001b[1;33m]\u001b[0m\u001b[1;33m,\u001b[0m\u001b[1;33m\u001b[0m\u001b[1;33m\u001b[0m\u001b[0m\n\u001b[0;32m      8\u001b[0m     \u001b[0mlink_fields\u001b[0m\u001b[1;33m=\u001b[0m\u001b[1;33m[\u001b[0m\u001b[1;34m\"usarea_km2\"\u001b[0m\u001b[1;33m,\u001b[0m \u001b[1;34m\"Length_m\"\u001b[0m\u001b[1;33m]\u001b[0m\u001b[1;33m,\u001b[0m\u001b[1;33m\u001b[0m\u001b[1;33m\u001b[0m\u001b[0m\n",
      "\u001b[1;31mNameError\u001b[0m: name 'points_shapefile' is not defined"
     ]
    }
   ],
   "source": [
    "shp_file = '../data/hugo_network.shp'\n",
    "points_shapefile = datadir / \"MethowSubBasin_Nodes_4.shp\"\n",
    "\n",
    "grid = read_shapefile(\n",
    "    shp_file,\n",
    "    points_shapefile=points_shapefile,\n",
    "    node_fields=[\"usarea_km2\", \"Elev_m\"],\n",
    "    link_fields=[\"usarea_km2\", \"Length_m\"],\n",
    "    link_field_conversion={\"usarea_km2\": \"drainage_area\", \"Slope\":\"channel_slope\", \"Length_m\":\"reach_length\"},\n",
    "    node_field_conversion={\n",
    "        \"usarea_km2\": \"drainage_area\",\n",
    "        \"Elev_m\": \"topographic__elevation\",\n",
    "    },\n",
    "    threshold=0.01,\n",
    "    )"
   ]
  },
  {
   "cell_type": "code",
   "execution_count": null,
   "metadata": {},
   "outputs": [],
   "source": []
  }
 ],
 "metadata": {
  "kernelspec": {
   "display_name": "Python 3",
   "language": "python",
   "name": "python3"
  },
  "language_info": {
   "codemirror_mode": {
    "name": "ipython",
    "version": 3
   },
   "file_extension": ".py",
   "mimetype": "text/x-python",
   "name": "python",
   "nbconvert_exporter": "python",
   "pygments_lexer": "ipython3",
   "version": "3.8.5"
  }
 },
 "nbformat": 4,
 "nbformat_minor": 4
}
