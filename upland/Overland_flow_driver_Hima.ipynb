{
 "cells": [
  {
   "cell_type": "code",
   "execution_count": null,
   "metadata": {},
   "outputs": [],
   "source": [
    "%reset -f\n",
    "import numpy as np\n",
    "from landlab import RasterModelGrid\n",
    "from landlab.components import OverlandFlow, FlowAccumulator, SpatialPrecipitationDistribution\n",
    "from landlab.plot.imshow import imshow_grid\n",
    "import matplotlib.pyplot as plt\n"
   ]
  },
  {
   "cell_type": "code",
   "execution_count": null,
   "metadata": {},
   "outputs": [],
   "source": [
    "#Define grid\n",
    "# here we use an arbitrary, very small, \"real\" catchment\n",
    "fname = 'hugo_site.asc'\n",
    "rmg, z = read_esri_ascii(fname, name='topographic__elevation')\n",
    "rmg.status_at_node[mg.nodes_at_right_edge] = mg.BC_NODE_IS_FIXED_VALUE\n",
    "rmg.status_at_node[np.isclose(z, -9999.)] = mg.BC_NODE_IS_CLOSED\n",
    "\n",
    "plt.figure()\n",
    "imshow_grid_at_node(mg, z, colorbar_label='Elevation (m)')\n",
    "plt.show()"
   ]
  }
 ],
 "metadata": {
  "kernelspec": {
   "display_name": "Python 3",
   "language": "python",
   "name": "python3"
  },
  "language_info": {
   "codemirror_mode": {
    "name": "ipython",
    "version": 3
   },
   "file_extension": ".py",
   "mimetype": "text/x-python",
   "name": "python",
   "nbconvert_exporter": "python",
   "pygments_lexer": "ipython3",
   "version": "3.8.5"
  }
 },
 "nbformat": 4,
 "nbformat_minor": 4
}
